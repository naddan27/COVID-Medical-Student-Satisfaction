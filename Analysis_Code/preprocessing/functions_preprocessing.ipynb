{
 "cells": [
  {
   "cell_type": "code",
   "execution_count": null,
   "source": [
    "%load_ext autoreload\r\n",
    "%autoreload 2\r\n",
    "import pandas as pd \r\n",
    "import numpy as np \r\n",
    "from config import params\r\n",
    "from functions_preprocessing import *\r\n",
    "from matplotlib import pyplot as plt\r\n",
    "import os\r\n",
    "from datetime import datetime"
   ],
   "outputs": [],
   "metadata": {}
  },
  {
   "cell_type": "markdown",
   "source": [
    "#### Import the school data as a Dataframe"
   ],
   "metadata": {}
  },
  {
   "cell_type": "code",
   "execution_count": null,
   "source": [
    "raw_school_df = pd.read_csv(params[\"school_csv_path\"])\r\n",
    "raw_school = dict()\r\n",
    "for key in params[\"school_data_dictionary\"].keys():\r\n",
    "    raw_school[key] = raw_school_df[params[\"school_data_dictionary\"][key]]\r\n",
    "\r\n",
    "school_df = pd.DataFrame(data = raw_school)\r\n",
    "preprocess_school_list(school_df)"
   ],
   "outputs": [],
   "metadata": {}
  },
  {
   "cell_type": "markdown",
   "source": [
    "#### Preprocess the Responses and Add the Hospital-Derived data\n",
    "This is the preprocessing script for the responses. It will extract the features and remove duplicates. The hospital data will also be preprocessed here. The school data is not yet incorporated and dropped."
   ],
   "metadata": {}
  },
  {
   "cell_type": "code",
   "execution_count": null,
   "source": [
    "# use the config file to convert the survey questions to shorter names for data processing downstream\r\n",
    "response_df = pd.read_csv(params[\"raw_data_file_path\"])\r\n",
    "response_df = extract_features(response_df, params)\r\n",
    "\r\n",
    "#remove empty responses and duplicates\r\n",
    "response_df =  response_df[response_df[[\"Email\"]].notna().any(axis=1)] #remove responses w/o an email\r\n",
    "check_for_duplicates(response_df, params)"
   ],
   "outputs": [],
   "metadata": {}
  },
  {
   "cell_type": "code",
   "execution_count": null,
   "source": [
    "#Extract the hospital data and then drop the hospital feature\r\n",
    "derive_hospital_zipcode_county(response_df)\r\n",
    "derive_patient_ses(response_df, params)\r\n",
    "drop_hospital_name_county_zipcode(response_df)"
   ],
   "outputs": [],
   "metadata": {
    "tags": []
   }
  },
  {
   "cell_type": "code",
   "execution_count": null,
   "source": [
    "#add school data and then drop emails\r\n",
    "add_school_data_to_responses(response_df, school_df)\r\n",
    "delete_inappropriate_schools(response_df)\r\n",
    "one_hot_encode_comms_update_composition(response_df)\r\n",
    "drop_incomplete(response_df)"
   ],
   "outputs": [],
   "metadata": {}
  },
  {
   "cell_type": "code",
   "execution_count": null,
   "source": [
    "drop_school_email_data(response_df)\r\n",
    "fr_free_df = make_fr_free_version(response_df)"
   ],
   "outputs": [],
   "metadata": {
    "tags": []
   }
  },
  {
   "cell_type": "code",
   "execution_count": null,
   "source": [
    "now = datetime.now()\r\n",
    "dt_string = now.strftime(\"%d%m%Y_%H%M%S\")\r\n",
    "\r\n",
    "response_df.reset_index(drop = True, inplace = True)\r\n",
    "fr_free_df.reset_index(drop = True, inplace = True)\r\n",
    "\r\n",
    "response_df.to_csv(os.path.join(params[\"output_base_directory\"], \"preprocessed_responses-\" + dt_string  + \".csv\"))\r\n",
    "fr_free_df.to_csv(os.path.join(params[\"output_base_directory\"], \"preprocessed_responses_no_FR-\" + dt_string + \".csv\"))"
   ],
   "outputs": [],
   "metadata": {}
  },
  {
   "cell_type": "code",
   "execution_count": null,
   "source": [
    "os.path.join(params[\"output_base_directory\"], \"preprocessed_responses-\" + dt_string  + \".csv\")"
   ],
   "outputs": [],
   "metadata": {}
  }
 ],
 "metadata": {
  "interpreter": {
   "hash": "26c0553cf723ee904657483d397669cca535e361b41e0c7b09a73ffb8322fcb1"
  },
  "kernelspec": {
   "display_name": "Python 3",
   "language": "python",
   "name": "python3"
  },
  "language_info": {
   "codemirror_mode": {
    "name": "ipython",
    "version": 3
   },
   "file_extension": ".py",
   "mimetype": "text/x-python",
   "name": "python",
   "nbconvert_exporter": "python",
   "pygments_lexer": "ipython3",
   "version": "3.9.7"
  }
 },
 "nbformat": 4,
 "nbformat_minor": 4
}