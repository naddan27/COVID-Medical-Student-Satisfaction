{
 "cells": [
  {
   "cell_type": "code",
   "execution_count": null,
   "metadata": {},
   "outputs": [],
   "source": [
    "%load_ext autoreload\n",
    "%autoreload 2\n",
    "import os\n",
    "from glob import glob\n",
    "from matplotlib import pyplot as plt \n",
    "import numpy as np\n",
    "import pandas as pd\n",
    "from collections import Counter\n",
    "from prettytable import PrettyTable\n",
    "from prelim_analysis_helper import *\n",
    "from datetime import datetime"
   ]
  },
  {
   "cell_type": "markdown",
   "metadata": {},
   "source": [
    "# Preliminary Analysis\n",
    "This notebook is the preliminary analysis portion of the COVID research project. The analysis is split into two parts \n",
    "1) Distributions of the demographics, PPE, testing, communication, exposure, general. All tables represented show conditional probability tables \n",
    "2) Chi2 and Rank sum analysis\n",
    "\n",
    "## Part 1: Distributions and Conditional Probability Tables\n",
    "Below shows a subset of the data imported"
   ]
  },
  {
   "cell_type": "code",
   "execution_count": null,
   "metadata": {},
   "outputs": [],
   "source": [
    "today = datetime.today().strftime(\"%m/%d/%Y\")\n",
    "print(\"Date Generated: \", today)\n",
    "response_fp = \"/path/to/preprocessed/no/FR/data\"\n",
    "response_df = pd.read_csv(response_fp)"
   ]
  },
  {
   "cell_type": "code",
   "execution_count": null,
   "metadata": {},
   "outputs": [],
   "source": [
    "vaccine_simplified = []\n",
    "for x in response_df.Comms_vaccine:\n",
    "    if x == \"I have already received the vaccine\" or x == \"I will receive the vaccine by the school earlier than the general population\":\n",
    "        vaccine_simplified.append(\"Earlier than general population/Already received\")\n",
    "    elif x == \"I will not receive the vaccine by the school\" or x == \"I will receive the vaccine by the school at the same time as the general population\" or x == \"I have not received information regarding receiving vaccine\":\n",
    "        vaccine_simplified.append(\"Same time as general population/Don't know\")\n",
    "    else:\n",
    "        print(\"not found\")\n",
    "        vaccine_simplified.append(np.nan)\n",
    "response_df[\"vaccine_simplified\"] = vaccine_simplified\n",
    "response_df[\"Endowment_per_capita_thousands\"] = response_df[\"Endowment_per_capita\"] * 1000000"
   ]
  },
  {
   "cell_type": "markdown",
   "metadata": {},
   "source": [
    "***\n",
    "### Demographics\n"
   ]
  },
  {
   "cell_type": "code",
   "execution_count": null,
   "metadata": {
    "scrolled": false
   },
   "outputs": [],
   "source": [
    "continuous_demographic_features = ['Age', \"MedSchool_size\", \"Endowment_per_capita_thousands\"]\n",
    "categorical_demographic_features = ['Year', 'Race', 'Gender', 'SES', \"Patient_SES_Quartile\", \"Region\", \"vaccine_simplified\"]\n",
    "\n",
    "#Create histograms of the continuous features\n",
    "plt.figure(figsize = (8,1.75), dpi = 100)\n",
    "for i, continuous_feature in enumerate(continuous_demographic_features):\n",
    "    plt.subplot(1,3,i+1)\n",
    "    plt.hist(response_df[continuous_feature])\n",
    "    plt.title(continuous_feature)\n",
    "\n",
    "plt.tight_layout()\n",
    "plt.show()\n",
    "\n",
    "#Show Conditional Tables for the Categorical Features and General Satisfaction\n",
    "demographic_features = categorical_demographic_features.copy()\n",
    "demographic_features.append(\"General_satisfaction\")\n",
    "\n",
    "create_conditional_matrix(response_df, demographic_features)"
   ]
  },
  {
   "cell_type": "markdown",
   "metadata": {},
   "source": [
    "***\n",
    "### PPE\n"
   ]
  },
  {
   "cell_type": "code",
   "execution_count": null,
   "metadata": {},
   "outputs": [],
   "source": [
    "ppe_features = ['PPE_accessibility', 'PPE_training', 'PPE_satisfaction']\n",
    "\n",
    "plt.figure(figsize = (10, 3), dpi = 100)\n",
    "create_pie_chart(response_df, ppe_features, 1, 3, 140, (0.1,-1.3))\n",
    "plt.tight_layout()\n",
    "\n",
    "independent_vars = ['PPE_accessibility', 'PPE_training']\n",
    "dependent_var = 'PPE_satisfaction'\n",
    "        \n",
    "conditional_agree_disagree_table(response_df, ppe_features)"
   ]
  },
  {
   "cell_type": "markdown",
   "metadata": {},
   "source": [
    "***\n",
    "### Testing\n"
   ]
  },
  {
   "cell_type": "code",
   "execution_count": null,
   "metadata": {},
   "outputs": [],
   "source": [
    "testing_features = ['Testing_freq', 'Testing_results_turnover', 'M1_2_tested',\n",
    "                       'Testing_access_if_wanted', 'Testing_symptoms_required',\n",
    "                       'Testing_satisfaction',]\n",
    "\n",
    "plt.figure(figsize = (10, 6), dpi = 100)\n",
    "create_pie_chart(response_df, testing_features, 3, 2, 160, (0.75,-1.11))\n",
    "plt.tight_layout()\n",
    "group_unsure_and_no_responses_testing(response_df)\n",
    "create_conditional_matrix(response_df, testing_features)"
   ]
  },
  {
   "cell_type": "markdown",
   "metadata": {},
   "source": [
    "***\n",
    "### Communication\n"
   ]
  },
  {
   "cell_type": "code",
   "execution_count": null,
   "metadata": {
    "scrolled": false
   },
   "outputs": [],
   "source": [
    "comms_features = [\n",
    "    'Comms_mental_health',\n",
    "    'Comms_update_freq', 'Comms_student_worker',\n",
    "    'Comms_vaccine', \n",
    "    'Comms_update_Information on testing protocols',\n",
    "    'Comms_update_Number of COVID-19 cases in your school',\n",
    "    'Comms_update_Supportive messages',\n",
    "    'Comms_update_COVID-19 protocol changes',\n",
    "    'Comms_update_Status on PPE inventory/availability',\n",
    "    'Comms_satisfaction',\n",
    "]\n",
    "plt.figure(figsize = (8,18))\n",
    "create_pie_chart(response_df, comms_features, 5, 2, 145, (0,0))\n",
    "plt.tight_layout()\n",
    "\n",
    "#Create conditional for agree/disagree\n",
    "conditional_agree_disagree_table(response_df, ['Comms_mental_health', 'Comms_satisfaction'])\n",
    "\n",
    "#Create variable summing the number of communication methods\n",
    "comms_composition =  ['Comms_update_Information on testing protocols',\n",
    "                      'Comms_update_Number of COVID-19 cases in your school',\n",
    "                      'Comms_update_Supportive messages',\n",
    "                      'Comms_update_COVID-19 protocol changes',\n",
    "                      'Comms_update_Status on PPE inventory/availability',\n",
    "                     ]\n",
    "response_df[\"nCommunication_methods\"] = response_df['Comms_update_Information on testing protocols'] + \\\n",
    "                                        response_df['Comms_update_Number of COVID-19 cases in your school'] + \\\n",
    "                                        response_df['Comms_update_Supportive messages'] + \\\n",
    "                                        response_df['Comms_update_COVID-19 protocol changes'] + \\\n",
    "                                        response_df['Comms_update_Status on PPE inventory/availability']\n",
    "nCommunication_cutoff = 3\n",
    "response_df[\"nCommunication_methods>\"+str(nCommunication_cutoff)] = response_df[\"nCommunication_methods\"] > nCommunication_cutoff\n",
    "\n",
    "comms_features.insert(len(comms_features) -1, \"nCommunication_methods\")\n",
    "comms_features.insert(len(comms_features)-1, \"nCommunication_methods>\"+str(nCommunication_cutoff))\n",
    "make_vaccine_groups(response_df)\n",
    "count_important_messages_comms(response_df)\n",
    "group_comms_update_freq(response_df)\n",
    "create_conditional_matrix(response_df, comms_features)"
   ]
  },
  {
   "cell_type": "markdown",
   "metadata": {},
   "source": [
    "***\n",
    "### Exposure\n"
   ]
  },
  {
   "cell_type": "code",
   "execution_count": null,
   "metadata": {},
   "outputs": [],
   "source": [
    "exposure_features = ['Exposure_COVID_positive_hx', 'Exposure_COVID_pt_freq',\n",
    "                       'Exposure_quarantine_policy', 'Exposure_discomfort_PPE_by_peers',\n",
    "                       'Exposure_sharing_comfort', 'Exposure_satisfaction',\n",
    "            ]\n",
    "plt.figure(figsize = (10,7))\n",
    "create_pie_chart(response_df, exposure_features, 3, 2, 180, (.1,-1))\n",
    "plt.tight_layout()\n",
    "group_unsure_and_no_responses_exposure(response_df)\n",
    "create_conditional_matrix(response_df, exposure_features)"
   ]
  },
  {
   "cell_type": "markdown",
   "metadata": {},
   "source": [
    "***\n",
    "### General Satisfication\n"
   ]
  },
  {
   "cell_type": "code",
   "execution_count": null,
   "metadata": {},
   "outputs": [],
   "source": [
    "Counter(response_df[\"General_satisfaction\"])"
   ]
  },
  {
   "cell_type": "code",
   "execution_count": null,
   "metadata": {},
   "outputs": [],
   "source": [
    "general_features = ['PPE_satisfaction', 'Testing_satisfaction', 'Comms_satisfaction',\n",
    "       'Exposure_satisfaction', 'General_satisfaction']\n",
    "\n",
    "plt.figure(figsize = (10,7))\n",
    "create_pie_chart(response_df, general_features, 3, 2, 180, (.1,-1))\n",
    "plt.tight_layout()\n",
    "\n",
    "conditional_agree_disagree_table(response_df, general_features)"
   ]
  },
  {
   "cell_type": "markdown",
   "metadata": {},
   "source": [
    "***\n",
    "***\n",
    "## Part 2: Chi2 and Rank Sum Analysis\n",
    "***\n",
    "### Chi2 Analysis\n",
    "Blue represents significant values < 0.01\n",
    "Red represents significant values < 0.05"
   ]
  },
  {
   "cell_type": "code",
   "execution_count": null,
   "metadata": {
    "scrolled": false
   },
   "outputs": [],
   "source": [
    "demographic_chi = [\n",
    "    'Year', 'Race', 'Gender','SES',\n",
    "    'Patient_SES_Quartile',\n",
    "    'Region',\n",
    "    \"vaccine_simplified\", \"Comms_student_worker\"\n",
    "    ]\n",
    "ppe_chi = [\n",
    "    'PPE_accessibility', 'PPE_training'\n",
    "    ]\n",
    "testing_chi = [\n",
    "    'Testing_freq', 'Testing_results_turnover', 'M1_2_tested',\n",
    "    'Testing_access_if_wanted', 'Testing_symptoms_required',\n",
    "    'M1_2_tested_grouped', 'testing_symptoms_required_group', 'testing_access_if_wanted_group', 'test_symptom_req_invgroup'\n",
    "    ]\n",
    "comms_chi = [\n",
    "    'vacc_faster_than_gen_pop', 'vaccinated', 'vaccinated_faster_else',\n",
    "    'Comms_update_freq', 'Comms_student_worker',\n",
    "    'Comms_vaccine', 'Comms_mental_health',\n",
    "    'Comms_update_Information on testing protocols',\n",
    "    'Comms_update_Number of COVID-19 cases in your school',\n",
    "    'Comms_update_Supportive messages',\n",
    "    'Comms_update_COVID-19 protocol changes',\n",
    "    'Comms_update_Status on PPE inventory/availability', \"nCommunication_methods>\"+str(nCommunication_cutoff),\n",
    "    'Comms_nImportant_Messages', 'Comms_update_freq_weekly', 'Comms_update_freq_monthly',\n",
    "    'Comms_update_freq_mle'\n",
    "    ]\n",
    "exposure_chi = [\n",
    "    'Exposure_COVID_positive_hx', 'Exposure_COVID_pt_freq',\n",
    "    'Exposure_quarantine_policy', 'Exposure_discomfort_PPE_by_peers', 'Exposure_sharing_comfort',\n",
    "    'exposure_quarantine_policy_grouped', 'expos_quaran_policy_invgroup', 'exposure_covid_pt_freq_bin'\n",
    "]\n",
    "\n",
    "satisfaction = [\n",
    "    'PPE_satisfaction', 'Testing_satisfaction', 'Comms_satisfaction', 'Exposure_satisfaction','General_satisfaction'\n",
    "]\n",
    "\n",
    "get_chi_square_table(response_df, \"Demographics\", demographic_chi, ['General_satisfaction'])\n",
    "get_chi_square_table(response_df, \"PPE\", ppe_chi, ['PPE_satisfaction', 'General_satisfaction'])\n",
    "get_chi_square_table(response_df, \"Testing\", testing_chi, ['Testing_satisfaction', 'General_satisfaction'])\n",
    "get_chi_square_table(response_df, \"Communication\", comms_chi, ['Comms_satisfaction', 'General_satisfaction'])\n",
    "get_chi_square_table(response_df, \"Exposure\", exposure_chi, ['Exposure_satisfaction', 'General_satisfaction'])\n",
    "get_chi_square_table(response_df, \"Satisfaction\", ['PPE_satisfaction', 'Testing_satisfaction', 'Comms_satisfaction', 'Exposure_satisfaction'], ['General_satisfaction'])       "
   ]
  },
  {
   "cell_type": "markdown",
   "metadata": {},
   "source": [
    "***\n",
    "### Rank Sum"
   ]
  },
  {
   "cell_type": "code",
   "execution_count": null,
   "metadata": {},
   "outputs": [],
   "source": [
    "demographic_ranksum = [\n",
    "    'Age', 'MedSchool_size', 'Endowment_per_capita_thousands'\n",
    "]\n",
    "\n",
    "comms_rank_sum = [\n",
    "    'nCommunication_methods'\n",
    "]\n",
    "satisfaction = [\n",
    "    'PPE_satisfaction_binary', 'Testing_satisfaction_binary', \n",
    "    'Comms_satisfaction_binary', 'Exposure_satisfaction_binary','General_satisfaction_binary'\n",
    "]\n",
    "\n",
    "get_ranksums(response_df, 'Demographic', demographic_ranksum, ['PPE_satisfaction_binary', 'General_satisfaction_binary'])\n",
    "get_ranksums(response_df, 'Communication', comms_rank_sum, ['Comms_satisfaction_binary', 'General_satisfaction_binary'])"
   ]
  },
  {
   "cell_type": "code",
   "execution_count": null,
   "metadata": {},
   "outputs": [],
   "source": [
    "response_df.reset_index(drop = True, inplace = True)\n",
    "response_df.drop(columns = [\"Unnamed: 0\"], inplace = True)\n",
    "response_df.head()\n",
    "fp = \"./../../Datasets/Survey_Data/preprocessed/after_prelim_analysis.csv\"\n",
    "response_df.to_csv(fp)\n",
    "print(\"File saved to \", fp)"
   ]
  }
 ],
 "metadata": {
  "@webio": {
   "lastCommId": null,
   "lastKernelId": null
  },
  "interpreter": {
   "hash": "26c0553cf723ee904657483d397669cca535e361b41e0c7b09a73ffb8322fcb1"
  },
  "kernelspec": {
   "display_name": "Python 3",
   "language": "python",
   "name": "python3"
  },
  "language_info": {
   "codemirror_mode": {
    "name": "ipython",
    "version": 3
   },
   "file_extension": ".py",
   "mimetype": "text/x-python",
   "name": "python",
   "nbconvert_exporter": "python",
   "pygments_lexer": "ipython3",
   "version": "3.9.7"
  }
 },
 "nbformat": 4,
 "nbformat_minor": 4
}
